{
 "cells": [
  {
   "cell_type": "code",
   "execution_count": null,
   "metadata": {},
   "outputs": [],
   "source": [
    "%matplotlib inline\n",
    "import os\n",
    "import pandas\n",
    "from scipy.stats import f_oneway\n",
    "from statsmodels.stats.multitest import multipletests\n",
    "import numpy\n",
    "import math\n",
    "import itertools \n",
    "from scipy.stats import ttest_ind\n",
    "from sklearn import datasets, linear_model\n",
    "from sklearn.metrics import mean_squared_error, r2_score\n",
    "import statsmodels.api as sm\n",
    "from scipy import stats\n",
    "from sklearn import preprocessing\n",
    "import seaborn as sns"
   ]
  },
  {
   "cell_type": "markdown",
   "metadata": {},
   "source": [
    "##### Представление данных"
   ]
  },
  {
   "cell_type": "code",
   "execution_count": null,
   "metadata": {},
   "outputs": [],
   "source": [
    "mir_ratio_column = \"miR_Ratio\"\n",
    "mir_ratio_2_column = \"2_miR Ratio\"\n",
    "hemscore_column = \"Hem_Score\"\n",
    "gender_column = \"Gender\"\n",
    "diabetes_column = \"Diabetes\"\n",
    "age_column = \"Age\""
   ]
  },
  {
   "cell_type": "markdown",
   "metadata": {},
   "source": [
    "##### Обработка данных"
   ]
  },
  {
   "cell_type": "code",
   "execution_count": null,
   "metadata": {},
   "outputs": [],
   "source": [
    "class SignificantMicroRNAFinder(object):\n",
    "\n",
    "    def __init__(\n",
    "            self, path, mir_ratio_2_theshold=40000, \n",
    "            housekeeping_gene=\"Ct_hsa-miR-16-5p\", \n",
    "            special_housekeeping_gene=None,\n",
    "            special_miRNA=None,\n",
    "            output_files_folder=\"results/temp\",\n",
    "            output_files_prefix=\"mir16_hk_\",\n",
    "    ):\n",
    "        self.path = path\n",
    "        self.mir_ratio_2_theshold = mir_ratio_2_theshold\n",
    "        self.housekeeping_gene = housekeeping_gene\n",
    "        self.special_housekeeping_gene = special_housekeeping_gene\n",
    "        self.special_miRNA = special_miRNA\n",
    "        \n",
    "        self.output_files_folder = output_files_folder\n",
    "        self.output_files_prefix = output_files_prefix\n",
    "        if not os.path.exists(self.output_files_folder):\n",
    "            os.makedirs(self.output_files_folder)\n",
    "        self.output_prefix = os.path.join(self.output_files_folder, self.output_files_prefix)\n",
    "        \n",
    "        self.data = self.prepare_data()\n",
    "        self.data = self.normalize_expression(self.data)\n",
    "\n",
    "        \n",
    "    def normalize_expression(self, df):\n",
    "        self.norm_exp_cols = []\n",
    "        exp_cols = [col for col in df.columns if \"Ct_\" in col]\n",
    "        for col in exp_cols:\n",
    "            df[f\"{col}_normalized\"] = df.apply(\n",
    "                lambda x: \n",
    "                    2**x[col]/2**x[self.housekeeping_gene]\n",
    "                    # 2**x[self.housekeeping_gene]/2**x[col]\n",
    "                    if self.special_miRNA is None \n",
    "                        or col not in self.special_miRNA\n",
    "                        or self.special_housekeeping_gene is None \n",
    "                        or pandas.isnull(x[self.special_housekeeping_gene])\n",
    "                    else \n",
    "                        2**x[col]/2**x[self.special_housekeeping_gene], \n",
    "                        # 2**x[self.special_housekeeping_gene]/2**x[col], \n",
    "                axis=1\n",
    "            )\n",
    "            self.norm_exp_cols.append(f\"{col}_normalized\")\n",
    "\n",
    "        return df\n",
    "\n",
    "    def prepare_data(self):\n",
    "        data = pandas.read_excel(self.path)\n",
    "        data = data.replace([\"Undetermined\"], [None])\n",
    "        data[mir_ratio_2_column] = data[mir_ratio_column].map(lambda x: 2**x)\n",
    "\n",
    "        data.plot.scatter(x=hemscore_column, y=mir_ratio_2_column, title=\"Before filtering\")\n",
    "\n",
    "        data = self.filter_samples(data)\n",
    "        data.plot.scatter(x=hemscore_column, y=mir_ratio_2_column, title=\"After filtering\")\n",
    "\n",
    "        return data\n",
    "\n",
    "\n",
    "    def filter_samples(self, data):\n",
    "        return data[data[mir_ratio_2_column] < self.mir_ratio_2_theshold]\n",
    "    \n",
    "    @staticmethod\n",
    "    def highlight_cells(value, threshold=0.1, below=True):\n",
    "        if below:\n",
    "            if isinstance(value, float) and abs(value) <= threshold:\n",
    "                return 'background-color: green'\n",
    "        else:\n",
    "            if isinstance(value, float) and abs(value) >= threshold:\n",
    "                return 'background-color: green'\n",
    "        \n",
    "        return 'background-color: white'\n",
    "\n",
    "    def regression_with_confounding_factors(\n",
    "        self, group_column=\"Group\",\n",
    "        confounding_factors=[\n",
    "            hemscore_column,\n",
    "            #gender_column,\n",
    "            diabetes_column,\n",
    "            age_column,\n",
    "            mir_ratio_column\n",
    "        ]\n",
    "    ):\n",
    "        le = preprocessing.LabelEncoder()\n",
    "        \n",
    "        data = self.data.copy(deep=True)\n",
    "        \n",
    "        \n",
    "        potential_microRNAs = set(self.norm_exp_cols) - set([self.housekeeping_gene + \"_normalized\"])\n",
    "        if self.special_housekeeping_gene:\n",
    "            potential_microRNAs -= set([self.special_housekeeping_gene + \"_normalized\"])\n",
    "        \n",
    "        # correlation between variables\n",
    "        corr = data[list(potential_microRNAs) + confounding_factors].corr()\n",
    "        sns.heatmap(corr)\n",
    "        \n",
    "        output_suffix = \"_%s.xlsx\" % \"_\".join(confounding_factors)\n",
    "\n",
    "        # Create linear regression object\n",
    "        lr_scores = pandas.DataFrame()\n",
    "        regr = linear_model.LinearRegression()\n",
    "        log2ratio = pandas.DataFrame()\n",
    "        for group1, group2 in sorted(itertools.combinations(sorted(data[group_column].dropna().unique().tolist()), 2)):\n",
    "            comparison_name = f\"{group1}_vs_{group2}\"\n",
    "            res = {}\n",
    "            l2r = {}\n",
    "            for variable in list(potential_microRNAs):\n",
    "                # Train the model using the training sets\n",
    "                subdf = data[data[group_column].isin([group1, group2])].dropna(subset=confounding_factors + [variable])\n",
    "                X = subdf[list(set([variable] + confounding_factors))]\n",
    "                \n",
    "                y = le.fit(subdf[group_column]).transform(subdf[group_column])\n",
    "\n",
    "                X2 = sm.add_constant(X)\n",
    "                est = sm.OLS(y, X2)\n",
    "                est2 = est.fit()\n",
    "                print(\"\\n\\n\\nComparing groups\", group1, group2, \"for variable\", variable, \"\\n\\n\\n\")\n",
    "                print(est2.summary())\n",
    "                res[variable] = est2.pvalues[variable]\n",
    "                l2r[variable] = math.log(\n",
    "                    X.loc[subdf[subdf[group_column] == group1].index][variable].map(lambda x: 1/x).mean() / \n",
    "                    X.loc[subdf[subdf[group_column] == group2].index][variable].map(lambda x: 1/x).mean(),\n",
    "                    2\n",
    "                )\n",
    "            log2ratio = log2ratio.append(pandas.DataFrame(l2r, index=[comparison_name]))\n",
    "            lr_scores = lr_scores.append(pandas.DataFrame(res, index=[comparison_name]))\n",
    "            multitests = multipletests(\n",
    "                list(lr_scores.T[comparison_name].values), \n",
    "                alpha=0.05, \n",
    "                method=\"fdr_bh\",\n",
    "            )\n",
    "            lr_scores.loc[comparison_name + \"_mt\"] = dict(zip(lr_scores.columns, multitests[1]))\n",
    "            lr_scores = lr_scores.drop(index=comparison_name)\n",
    "        \n",
    "        lr_scores = lr_scores.sort_index()\n",
    "        log2ratio = log2ratio.sort_index()\n",
    "        \n",
    "        lr_scores_styler = lr_scores.style.applymap(self.highlight_cells)\n",
    "        lr_scores_styler.to_excel(f\"{self.output_prefix}_group_col_{group_column}_pvalue_significance_{output_suffix}\")\n",
    "        \n",
    "        log2ratio_styler = log2ratio.style.applymap(lambda x: self.highlight_cells(x, threshold=2, below=False))\n",
    "        log2ratio_styler.to_excel(f\"{self.output_prefix}_group_col_{group_column}_expression_log2Ratio_{output_suffix}\")\n",
    "\n",
    "        return lr_scores, log2ratio"
   ]
  },
  {
   "cell_type": "markdown",
   "metadata": {},
   "source": [
    "##### Поиска значимо изменяющихся микроРНК в miR_CAD_Database"
   ]
  },
  {
   "cell_type": "code",
   "execution_count": null,
   "metadata": {
    "scrolled": true
   },
   "outputs": [],
   "source": [
    "finder = SignificantMicroRNAFinder(\n",
    "    \"data/miR_CAD_Database_2019.xlsx\", \n",
    "    special_housekeeping_gene=\"Ct_hsa-miR-16-5p_new\",\n",
    "    special_miRNA = [\n",
    "        \"Ct_hsa-miR-146a-5p\",\n",
    "        \"Ct_hsa-miR-375\", \n",
    "        \"Ct_hsa-miR-23a-3p\", \n",
    "        \"Ct_miR-451a\"\n",
    "    ],\n",
    "    output_files_folder=\"results/miR_CAD_Database_2019\"\n",
    ")\n",
    "finder.regression_with_confounding_factors()"
   ]
  },
  {
   "cell_type": "markdown",
   "metadata": {},
   "source": [
    "##### Поиск значимо изменяющихся микроРНК в AF_Database"
   ]
  },
  {
   "cell_type": "code",
   "execution_count": null,
   "metadata": {},
   "outputs": [],
   "source": [
    "finder_af = SignificantMicroRNAFinder(\n",
    "    \"data/miR_AF_Database_2019.xlsx\", \n",
    "    output_files_folder=\"results/miR_AF_Database_2019\"\n",
    ")\n",
    "finder_af.regression_with_confounding_factors()"
   ]
  },
  {
   "cell_type": "markdown",
   "metadata": {},
   "source": [
    "##### Поиска значимо изменяющихся микроРНК в зависимости от различных рисковых коэффициентов и шкал"
   ]
  },
  {
   "cell_type": "code",
   "execution_count": null,
   "metadata": {},
   "outputs": [],
   "source": [
    "finder = SignificantMicroRNAFinder(\n",
    "    \"data/miR_AF_Database_2019_scales.xlsx\", \n",
    "    output_files_folder=\"results/miR_AF_Database_2019_scales\"\n",
    ")"
   ]
  },
  {
   "cell_type": "code",
   "execution_count": null,
   "metadata": {},
   "outputs": [],
   "source": [
    "finder.regression_with_confounding_factors()\n",
    "finder.regression_with_confounding_factors(group_column=\"CHA2DS2VASc_1\")\n",
    "finder.regression_with_confounding_factors(group_column=\"CHA2DS2VASc_2\")\n",
    "finder.regression_with_confounding_factors(group_column=\"SCORE_5\")\n",
    "finder.regression_with_confounding_factors(group_column=\"ACC_AHA_7,5\")"
   ]
  }
 ],
 "metadata": {
  "kernelspec": {
   "display_name": "Python 3",
   "language": "python",
   "name": "python3"
  },
  "language_info": {
   "codemirror_mode": {
    "name": "ipython",
    "version": 3
   },
   "file_extension": ".py",
   "mimetype": "text/x-python",
   "name": "python",
   "nbconvert_exporter": "python",
   "pygments_lexer": "ipython3",
   "version": "3.6.3"
  }
 },
 "nbformat": 4,
 "nbformat_minor": 2
}
